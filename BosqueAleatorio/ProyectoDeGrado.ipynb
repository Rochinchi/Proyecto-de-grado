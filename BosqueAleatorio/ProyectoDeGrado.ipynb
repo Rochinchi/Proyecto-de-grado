{
 "cells": [
  {
   "cell_type": "code",
   "execution_count": 1,
   "id": "1f59ac0d",
   "metadata": {},
   "outputs": [],
   "source": [
    "# Procesamiento de datos de entrada y diseño de un bosque aleatorio\n",
    "import numpy as np\n",
    "import pandas as pd\n",
    "import matplotlib.pyplot as plt\n",
    "import random\n",
    "\n",
    "from sklearn import preprocessing \n",
    "from sklearn.ensemble import RandomForestClassifier\n",
    "from sklearn.model_selection import train_test_split\n",
    "from sklearn.metrics import mean_squared_error, confusion_matrix, accuracy_score, precision_score, recall_score, f1_score, classification_report\n"
   ]
  },
  {
   "cell_type": "code",
   "execution_count": 2,
   "id": "6504716a",
   "metadata": {},
   "outputs": [],
   "source": [
    "def dividirDB (array, tasaEntrenamiento):\n",
    "    indiceEntrenamiento = round(array.shape[0]*tasaEntrenamiento)\n",
    "    matrizEntrenamiento = array[0:indiceEntrenamiento,:]\n",
    "    matrizValidacion = array[(indiceEntrenamiento):len(array),:]\n",
    "    return matrizEntrenamiento, matrizValidacion"
   ]
  },
  {
   "cell_type": "code",
   "execution_count": 3,
   "id": "e35d17d1",
   "metadata": {},
   "outputs": [],
   "source": [
    "#Onehot\n",
    "def EncoderOneHot (Y):\n",
    "    values = np.array(Y)\n",
    "    label_encoder = preprocessing.LabelEncoder()\n",
    "    integer_encoded = label_encoder.fit_transform(values)\n",
    "    # binary encode\n",
    "    onehot_encoder = preprocessing.OneHotEncoder(sparse=False)\n",
    "    integer_encoded = integer_encoded.reshape(len(integer_encoded), 1)\n",
    "    Y_o = onehot_encoder.fit_transform(integer_encoded)\n",
    "    #print(Y_o)\n",
    "    return Y_o"
   ]
  },
  {
   "cell_type": "code",
   "execution_count": 4,
   "id": "a05bd125",
   "metadata": {},
   "outputs": [],
   "source": [
    "#Función para randomizar cada clase\n",
    "def mezclar(array_original):\n",
    "    array = np.empty_like(array_original)\n",
    "    n = len(array_original)\n",
    "    alea = list(range(n))\n",
    "    random.shuffle(alea)\n",
    "    for i in range(n):\n",
    "        array[i] = array_original[alea[i]]\n",
    "    return array"
   ]
  },
  {
   "cell_type": "code",
   "execution_count": 5,
   "id": "929be9d4",
   "metadata": {},
   "outputs": [],
   "source": [
    "#Importamos los datos desde la base de datos.\n",
    "dataOriginal = pd.read_csv('MalMem2022.csv')"
   ]
  },
  {
   "cell_type": "code",
   "execution_count": 6,
   "id": "d47a80ab",
   "metadata": {},
   "outputs": [],
   "source": [
    "# Solo nos compete los datos que son malware así que vamos a eliminar la otra categoría\n",
    "dataMalware = dataOriginal.drop(np.where(dataOriginal['Category'].str.slice(stop=3) == 'Ben')[0]).reset_index(drop=True)"
   ]
  },
  {
   "cell_type": "code",
   "execution_count": 7,
   "id": "18d07f66",
   "metadata": {},
   "outputs": [],
   "source": [
    "#Solo vamos hacer el clasificador de las tres grandes clases de malware Troyan, Ransomware e Spyware.\n",
    "#Cuadramos la etiqueta de salida para que solo sean estos tres tipos, donde\n",
    "# 0 : Troyano 'Tro'\n",
    "# 1 : Ransomware 'Ran'\n",
    "# 2 : Spyware 'Spy'\n",
    "tipoMalWare = ['Tro','Ran','Spy']\n",
    "a=0\n",
    "for i in tipoMalWare:\n",
    "    indexTipoMalware = np.where(dataMalware['Category'].str.slice(stop=3) == i)[0]\n",
    "    dataMalware.loc[indexTipoMalware, 'Category'] = a\n",
    "    a=a+1\n",
    "    "
   ]
  },
  {
   "cell_type": "code",
   "execution_count": 8,
   "id": "319c45f1",
   "metadata": {},
   "outputs": [],
   "source": [
    "#Analizamos las características para evalular las cantidad de datos distintos que tienen cada una.\n",
    "#Las características que solo tengan un valor igual en todas las muestras, se eliminan\n",
    "listaValoresRepetidos = np.zeros(dataMalware.shape[1])\n",
    "for m in range(dataMalware.shape[1]):\n",
    "    listaValoresRepetidos[m] = len(dataMalware[dataMalware.columns[m]].unique())\n",
    "dataMalware = dataMalware.iloc[:, [i for i in range(dataMalware.shape[1]) if i not in np.where(listaValoresRepetidos[:] == 1)[0]]]"
   ]
  },
  {
   "cell_type": "code",
   "execution_count": 9,
   "id": "6d0eb3e5",
   "metadata": {},
   "outputs": [],
   "source": [
    "#Normalizamos la base de datos\n",
    "min_max_scaler = preprocessing.MinMaxScaler()\n",
    "dataMalwareNormalizada = min_max_scaler.fit_transform(dataMalware)\n",
    "#Mezclamos la base de datos\n",
    "dataMalwareNormalizada = mezclar(dataMalwareNormalizada)"
   ]
  },
  {
   "cell_type": "code",
   "execution_count": 10,
   "id": "be1292b6",
   "metadata": {},
   "outputs": [],
   "source": [
    "#Separamos conjuntos de entrenamiento y validación\n",
    "(matrizEntrada, matrizValidacion) = dividirDB (dataMalwareNormalizada, 0.7)"
   ]
  },
  {
   "cell_type": "code",
   "execution_count": 11,
   "id": "107c3dae",
   "metadata": {},
   "outputs": [],
   "source": [
    "xEntrada = matrizEntrada[:,1:]"
   ]
  },
  {
   "cell_type": "code",
   "execution_count": 12,
   "id": "004349c3",
   "metadata": {},
   "outputs": [],
   "source": [
    "#infectamos de ruidoooo pero hasta ahora cree la matriz de ruido\n",
    "porcentajeRuido = 0.05\n",
    "ruido = np.random.randn(xEntrada.shape[0],xEntrada.shape[1])"
   ]
  },
  {
   "cell_type": "code",
   "execution_count": 13,
   "id": "6eb09f2c",
   "metadata": {},
   "outputs": [],
   "source": [
    "xEntradaRuido = xEntrada + ruido\n"
   ]
  },
  {
   "cell_type": "code",
   "execution_count": 14,
   "id": "74ea693a",
   "metadata": {},
   "outputs": [],
   "source": [
    "#Separación de conjuntos de validación y entrenamiento con sus entradas y salidas\n",
    "yEntrenamiento = np.concatenate((matrizEntrada[:,0], matrizEntrada[:,0]), axis=0)\n",
    "xEntrenamiento = np.concatenate((xEntrada, xEntradaRuido), axis=0)\n",
    "yValidacion = matrizValidacion[:,0]\n",
    "xValidacion = matrizValidacion[:,1:]\n",
    "yValidacionOneHot = EncoderOneHot(yValidacion)\n",
    "yEntrenamientoOneHot = EncoderOneHot(yEntrenamiento)"
   ]
  },
  {
   "cell_type": "code",
   "execution_count": 15,
   "id": "da2a36cf",
   "metadata": {},
   "outputs": [],
   "source": [
    "#Hiperparámentros del bosque aleatorio\n",
    "n_estimators = 120\n",
    "max_depth = 45\n",
    "min_samples_split = 2\n",
    "min_samples_leaf = 1\n",
    "max_features = \"sqrt\"\n",
    "bootstrap = False\n",
    "random_state = 24\n",
    "\n",
    "# Crear el modelo de bosque aleatorio\n",
    "rfc = RandomForestClassifier(n_estimators=n_estimators,\n",
    "                              max_depth=max_depth,\n",
    "                              min_samples_split=min_samples_split,\n",
    "                              min_samples_leaf=min_samples_leaf,\n",
    "                              max_features=max_features,\n",
    "                              bootstrap=bootstrap,\n",
    "                              random_state=random_state,verbose=2)"
   ]
  },
  {
   "cell_type": "code",
   "execution_count": 16,
   "id": "32dcf4da",
   "metadata": {
    "scrolled": true
   },
   "outputs": [
    {
     "name": "stderr",
     "output_type": "stream",
     "text": [
      "[Parallel(n_jobs=1)]: Using backend SequentialBackend with 1 concurrent workers.\n"
     ]
    },
    {
     "name": "stdout",
     "output_type": "stream",
     "text": [
      "building tree 1 of 120\n"
     ]
    },
    {
     "name": "stderr",
     "output_type": "stream",
     "text": [
      "[Parallel(n_jobs=1)]: Done   1 out of   1 | elapsed:    0.9s remaining:    0.0s\n"
     ]
    },
    {
     "name": "stdout",
     "output_type": "stream",
     "text": [
      "building tree 2 of 120\n",
      "building tree 3 of 120\n",
      "building tree 4 of 120\n",
      "building tree 5 of 120\n",
      "building tree 6 of 120\n",
      "building tree 7 of 120\n",
      "building tree 8 of 120\n",
      "building tree 9 of 120\n",
      "building tree 10 of 120\n",
      "building tree 11 of 120\n",
      "building tree 12 of 120\n",
      "building tree 13 of 120\n",
      "building tree 14 of 120\n",
      "building tree 15 of 120\n",
      "building tree 16 of 120\n",
      "building tree 17 of 120\n",
      "building tree 18 of 120\n",
      "building tree 19 of 120\n",
      "building tree 20 of 120\n",
      "building tree 21 of 120\n",
      "building tree 22 of 120\n",
      "building tree 23 of 120\n",
      "building tree 24 of 120\n",
      "building tree 25 of 120\n",
      "building tree 26 of 120\n",
      "building tree 27 of 120\n",
      "building tree 28 of 120\n",
      "building tree 29 of 120\n",
      "building tree 30 of 120\n",
      "building tree 31 of 120\n",
      "building tree 32 of 120\n",
      "building tree 33 of 120\n",
      "building tree 34 of 120\n",
      "building tree 35 of 120\n",
      "building tree 36 of 120\n",
      "building tree 37 of 120\n",
      "building tree 38 of 120\n",
      "building tree 39 of 120\n",
      "building tree 40 of 120\n",
      "building tree 41 of 120\n",
      "building tree 42 of 120\n",
      "building tree 43 of 120\n",
      "building tree 44 of 120\n",
      "building tree 45 of 120\n",
      "building tree 46 of 120\n",
      "building tree 47 of 120\n",
      "building tree 48 of 120\n",
      "building tree 49 of 120\n",
      "building tree 50 of 120\n",
      "building tree 51 of 120\n",
      "building tree 52 of 120\n",
      "building tree 53 of 120\n",
      "building tree 54 of 120\n",
      "building tree 55 of 120\n",
      "building tree 56 of 120\n",
      "building tree 57 of 120\n",
      "building tree 58 of 120\n",
      "building tree 59 of 120\n",
      "building tree 60 of 120\n",
      "building tree 61 of 120\n",
      "building tree 62 of 120\n",
      "building tree 63 of 120\n",
      "building tree 64 of 120\n",
      "building tree 65 of 120\n",
      "building tree 66 of 120\n",
      "building tree 67 of 120\n",
      "building tree 68 of 120\n",
      "building tree 69 of 120\n",
      "building tree 70 of 120\n",
      "building tree 71 of 120\n",
      "building tree 72 of 120\n",
      "building tree 73 of 120\n",
      "building tree 74 of 120\n",
      "building tree 75 of 120\n",
      "building tree 76 of 120\n",
      "building tree 77 of 120\n",
      "building tree 78 of 120\n",
      "building tree 79 of 120\n",
      "building tree 80 of 120\n",
      "building tree 81 of 120\n",
      "building tree 82 of 120\n",
      "building tree 83 of 120\n",
      "building tree 84 of 120\n",
      "building tree 85 of 120\n",
      "building tree 86 of 120\n",
      "building tree 87 of 120\n",
      "building tree 88 of 120\n",
      "building tree 89 of 120\n",
      "building tree 90 of 120\n",
      "building tree 91 of 120\n",
      "building tree 92 of 120\n",
      "building tree 93 of 120\n",
      "building tree 94 of 120\n",
      "building tree 95 of 120\n",
      "building tree 96 of 120\n",
      "building tree 97 of 120\n",
      "building tree 98 of 120\n",
      "building tree 99 of 120\n",
      "building tree 100 of 120\n",
      "building tree 101 of 120\n",
      "building tree 102 of 120\n",
      "building tree 103 of 120\n",
      "building tree 104 of 120\n",
      "building tree 105 of 120\n",
      "building tree 106 of 120\n",
      "building tree 107 of 120\n",
      "building tree 108 of 120\n",
      "building tree 109 of 120\n",
      "building tree 110 of 120\n",
      "building tree 111 of 120\n",
      "building tree 112 of 120\n",
      "building tree 113 of 120\n",
      "building tree 114 of 120\n",
      "building tree 115 of 120\n",
      "building tree 116 of 120\n",
      "building tree 117 of 120\n",
      "building tree 118 of 120\n",
      "building tree 119 of 120\n",
      "building tree 120 of 120\n"
     ]
    },
    {
     "name": "stderr",
     "output_type": "stream",
     "text": [
      "[Parallel(n_jobs=1)]: Done 120 out of 120 | elapsed:  2.0min finished\n"
     ]
    },
    {
     "data": {
      "text/plain": [
       "RandomForestClassifier(bootstrap=False, max_depth=45, max_features='sqrt',\n",
       "                       n_estimators=120, random_state=24, verbose=2)"
      ]
     },
     "execution_count": 16,
     "metadata": {},
     "output_type": "execute_result"
    }
   ],
   "source": [
    "# Entrenamos el clasificador con los datos de entrenamiento\n",
    "rfc.fit(xEntrenamiento, yEntrenamientoOneHot)"
   ]
  },
  {
   "cell_type": "code",
   "execution_count": 17,
   "id": "0148e7e2",
   "metadata": {},
   "outputs": [
    {
     "name": "stderr",
     "output_type": "stream",
     "text": [
      "[Parallel(n_jobs=1)]: Using backend SequentialBackend with 1 concurrent workers.\n",
      "[Parallel(n_jobs=1)]: Done   1 out of   1 | elapsed:    0.0s remaining:    0.0s\n"
     ]
    },
    {
     "name": "stdout",
     "output_type": "stream",
     "text": [
      "              precision    recall  f1-score   support\n",
      "\n",
      "           0       0.77      0.68      0.72      2800\n",
      "           1       0.77      0.67      0.71      2979\n",
      "           2       0.82      0.74      0.77      3010\n",
      "\n",
      "   micro avg       0.78      0.70      0.74      8789\n",
      "   macro avg       0.78      0.70      0.74      8789\n",
      "weighted avg       0.78      0.70      0.74      8789\n",
      " samples avg       0.70      0.70      0.70      8789\n",
      "\n"
     ]
    },
    {
     "name": "stderr",
     "output_type": "stream",
     "text": [
      "[Parallel(n_jobs=1)]: Done 120 out of 120 | elapsed:    1.0s finished\n",
      "C:\\Users\\pc\\anaconda3\\lib\\site-packages\\sklearn\\metrics\\_classification.py:1318: UndefinedMetricWarning: Precision and F-score are ill-defined and being set to 0.0 in samples with no predicted labels. Use `zero_division` parameter to control this behavior.\n",
      "  _warn_prf(average, modifier, msg_start, len(result))\n"
     ]
    }
   ],
   "source": [
    "y_pred = rfc.predict(xValidacion)\n",
    "[y_pred.shape, yValidacionOneHot.shape]\n",
    "print(classification_report(yValidacionOneHot, y_pred))"
   ]
  },
  {
   "cell_type": "code",
   "execution_count": 18,
   "id": "53dbbd16",
   "metadata": {},
   "outputs": [],
   "source": [
    "y = np.argmax(yValidacionOneHot, axis=1)\n",
    "y_hat = np.argmax(y_pred, axis=1)"
   ]
  },
  {
   "cell_type": "code",
   "execution_count": 19,
   "id": "b77c8d96",
   "metadata": {},
   "outputs": [],
   "source": [
    "# Calcular matriz de confusión\n",
    "cm = confusion_matrix(y, y_hat)"
   ]
  },
  {
   "cell_type": "code",
   "execution_count": 20,
   "id": "b4c76512",
   "metadata": {},
   "outputs": [
    {
     "data": {
      "image/png": "[encoded data removed]",
      "text/plain": [
       "<Figure size 480x480 with 2 Axes>"
      ]
     },
     "metadata": {},
     "output_type": "display_data"
    }
   ],
   "source": [
    "plt.matshow(cm, cmap=plt.cm.Blues)\n",
    "plt.colorbar()\n",
    "plt.xlabel(\"Etiqueta predicha\")\n",
    "plt.ylabel(\"Etiqueta verdadera\")\n",
    "plt.show()"
   ]
  },
  {
   "cell_type": "code",
   "execution_count": 21,
   "id": "91fb8f87",
   "metadata": {},
   "outputs": [
    {
     "name": "stdout",
     "output_type": "stream",
     "text": [
      "0.6959836158834908\n"
     ]
    }
   ],
   "source": [
    "accuracy = accuracy_score(yValidacionOneHot, y_pred)\n",
    "print(accuracy)"
   ]
  },
  {
   "cell_type": "code",
   "execution_count": null,
   "id": "f839a3fe",
   "metadata": {},
   "outputs": [],
   "source": []
  }
 ],
 "metadata": {
  "kernelspec": {
   "display_name": "Python 3 (ipykernel)",
   "language": "python",
   "name": "python3"
  },
  "language_info": {
   "codemirror_mode": {
    "name": "ipython",
    "version": 3
   },
   "file_extension": ".py",
   "mimetype": "text/x-python",
   "name": "python",
   "nbconvert_exporter": "python",
   "pygments_lexer": "ipython3",
   "version": "3.9.13"
  }
 },
 "nbformat": 4,
 "nbformat_minor": 5
}
